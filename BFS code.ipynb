{
 "cells": [
  {
   "cell_type": "code",
   "execution_count": 2,
   "id": "2f754e38-0927-4f7a-95f9-e3a32285683f",
   "metadata": {},
   "outputs": [
    {
     "name": "stdout",
     "output_type": "stream",
     "text": [
      "Defaulting to user installation because normal site-packages is not writeable\n",
      "Collecting collection\n",
      "  Downloading collection-0.1.6.tar.gz (5.0 kB)\n",
      "  Preparing metadata (setup.py): started\n",
      "  Preparing metadata (setup.py): finished with status 'done'\n",
      "Building wheels for collected packages: collection\n",
      "  Building wheel for collection (setup.py): started\n",
      "  Building wheel for collection (setup.py): finished with status 'done'\n",
      "  Created wheel for collection: filename=collection-0.1.6-py3-none-any.whl size=5111 sha256=95c1c0327d5e0ab70ace66b38979186b95da35309041014c5b6ec8bb5d8f626a\n",
      "  Stored in directory: c:\\users\\lab8.iobm-std\\appdata\\local\\pip\\cache\\wheels\\1c\\b3\\7a\\6dd2fd1aa32817819c8c91da9a6b5919148da6eb5855ab0986\n",
      "Successfully built collection\n",
      "Installing collected packages: collection\n",
      "Successfully installed collection-0.1.6\n"
     ]
    }
   ],
   "source": [
    "!pip install collection"
   ]
  },
  {
   "cell_type": "code",
   "execution_count": 5,
   "id": "f8835a17-9a2d-49ce-b087-239d8b48000f",
   "metadata": {},
   "outputs": [],
   "source": [
    "import collections"
   ]
  },
  {
   "cell_type": "code",
   "execution_count": 10,
   "id": "f83d622b-79bb-4ec8-a971-64b618f7cfef",
   "metadata": {},
   "outputs": [],
   "source": [
    "def bfs(graph,root):\n",
    "    visited =set()\n",
    "    queue = collections.deque([root])\n",
    "    while queue:\n",
    "        vertex = queue.popleft()\n",
    "        if vertex not in visited:\n",
    "            visited.add(vertex)\n",
    "            for i in graph[vertex]:\n",
    "                if i not in visited:\n",
    "                    queue.append(i)\n",
    "                    print(visited)"
   ]
  },
  {
   "cell_type": "code",
   "execution_count": 13,
   "id": "e81e94f8-6c09-44b0-a49a-6c2704df8c06",
   "metadata": {},
   "outputs": [],
   "source": [
    "graph = {0:[1,2,3],1:[6],2:[0],3:[4],4:[5],5:[4],6:[1]}"
   ]
  },
  {
   "cell_type": "code",
   "execution_count": 14,
   "id": "31800a4d-7036-4ab4-9e09-73c65e95b00e",
   "metadata": {},
   "outputs": [
    {
     "name": "stdout",
     "output_type": "stream",
     "text": [
      "{0}\n",
      "{0}\n",
      "{0}\n",
      "{0, 1}\n",
      "{0, 1, 2, 3}\n",
      "{0, 1, 2, 3, 4, 6}\n"
     ]
    }
   ],
   "source": [
    "bfs(graph,0)"
   ]
  },
  {
   "cell_type": "code",
   "execution_count": null,
   "id": "c9731d3f-12cc-48b5-8096-419b9ed4e38b",
   "metadata": {},
   "outputs": [],
   "source": [
    "\n"
   ]
  },
  {
   "cell_type": "code",
   "execution_count": null,
   "id": "51c95ba1-ff75-4312-b323-00ac81f69f5b",
   "metadata": {},
   "outputs": [],
   "source": []
  }
 ],
 "metadata": {
  "kernelspec": {
   "display_name": "Python 3 (ipykernel)",
   "language": "python",
   "name": "python3"
  },
  "language_info": {
   "codemirror_mode": {
    "name": "ipython",
    "version": 3
   },
   "file_extension": ".py",
   "mimetype": "text/x-python",
   "name": "python",
   "nbconvert_exporter": "python",
   "pygments_lexer": "ipython3",
   "version": "3.11.7"
  }
 },
 "nbformat": 4,
 "nbformat_minor": 5
}
